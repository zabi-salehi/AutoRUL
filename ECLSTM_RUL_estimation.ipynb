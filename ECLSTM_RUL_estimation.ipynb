{
 "cells": [
  {
   "cell_type": "markdown",
   "metadata": {},
   "source": [
    "# import packages"
   ]
  },
  {
   "cell_type": "code",
   "execution_count": 53,
   "metadata": {},
   "outputs": [],
   "source": [
    "import warnings \n",
    "warnings.filterwarnings(\"ignore\")\n",
    "import pandas as pd\n",
    "import matplotlib.pyplot as plt\n",
    "import numpy as np\n",
    "import tensorflow as tf\n",
    "import time\n",
    "from utilities import *\n",
    "from sklearn.metrics import mean_squared_error\n",
    "import os\n",
    "from datetime import datetime\n"
   ]
  },
  {
   "cell_type": "code",
   "execution_count": 54,
   "metadata": {},
   "outputs": [],
   "source": [
    "pd.set_option(\"display.max_rows\", 1000)\n",
    "pd.set_option('display.max_rows',300)\n",
    "pd.set_option('display.float_format', lambda x: '%.5f' % x)"
   ]
  },
  {
   "cell_type": "markdown",
   "metadata": {},
   "source": [
    "# DATA PREPARATION\n",
    "## Load the training data and test data"
   ]
  },
  {
   "cell_type": "code",
   "execution_count": 55,
   "metadata": {},
   "outputs": [],
   "source": [
    "\n",
    "column_name = ['engine_id', 'cycle', 'setting1', 'setting2', 'setting3', 's1', 's2', 's3',\n",
    "               's4', 's5', 's6', 's7', 's8', 's9', 's10', 's11', 's12', 's13', 's14',\n",
    "               's15', 's16', 's17', 's18', 's19', 's20', 's21']\n",
    "\n",
    "Data_id = \"FD004\"\n",
    "\n",
    "train_FD = pd.read_table(\"./CMAPSSData/train_{}.txt\".format(Data_id), header=None, delim_whitespace=True)\n",
    "train_FD.columns = column_name\n",
    "\n",
    "\n",
    "test_FD = pd.read_table(\"./CMAPSSData/test_{}.txt\".format(Data_id), header=None, delim_whitespace=True)\n",
    "test_FD.columns = column_name\n",
    "\n",
    "RUL_FD = pd.read_table(\"./CMAPSSData/RUL_{}.txt\".format(Data_id), header=None, delim_whitespace=True)"
   ]
  },
  {
   "cell_type": "code",
   "execution_count": 56,
   "metadata": {},
   "outputs": [
    {
     "data": {
      "text/html": [
       "<div>\n",
       "<style scoped>\n",
       "    .dataframe tbody tr th:only-of-type {\n",
       "        vertical-align: middle;\n",
       "    }\n",
       "\n",
       "    .dataframe tbody tr th {\n",
       "        vertical-align: top;\n",
       "    }\n",
       "\n",
       "    .dataframe thead th {\n",
       "        text-align: right;\n",
       "    }\n",
       "</style>\n",
       "<table border=\"1\" class=\"dataframe\">\n",
       "  <thead>\n",
       "    <tr style=\"text-align: right;\">\n",
       "      <th></th>\n",
       "      <th>engine_id</th>\n",
       "      <th>cycle</th>\n",
       "      <th>setting1</th>\n",
       "      <th>setting2</th>\n",
       "      <th>setting3</th>\n",
       "      <th>s1</th>\n",
       "      <th>s2</th>\n",
       "      <th>s3</th>\n",
       "      <th>s4</th>\n",
       "      <th>s5</th>\n",
       "      <th>...</th>\n",
       "      <th>s12</th>\n",
       "      <th>s13</th>\n",
       "      <th>s14</th>\n",
       "      <th>s15</th>\n",
       "      <th>s16</th>\n",
       "      <th>s17</th>\n",
       "      <th>s18</th>\n",
       "      <th>s19</th>\n",
       "      <th>s20</th>\n",
       "      <th>s21</th>\n",
       "    </tr>\n",
       "  </thead>\n",
       "  <tbody>\n",
       "    <tr>\n",
       "      <th>count</th>\n",
       "      <td>61249.00000</td>\n",
       "      <td>61249.00000</td>\n",
       "      <td>61249.00000</td>\n",
       "      <td>61249.00000</td>\n",
       "      <td>61249.00000</td>\n",
       "      <td>61249.00000</td>\n",
       "      <td>61249.00000</td>\n",
       "      <td>61249.00000</td>\n",
       "      <td>61249.00000</td>\n",
       "      <td>61249.00000</td>\n",
       "      <td>...</td>\n",
       "      <td>61249.00000</td>\n",
       "      <td>61249.00000</td>\n",
       "      <td>61249.00000</td>\n",
       "      <td>61249.00000</td>\n",
       "      <td>61249.00000</td>\n",
       "      <td>61249.00000</td>\n",
       "      <td>61249.00000</td>\n",
       "      <td>61249.00000</td>\n",
       "      <td>61249.00000</td>\n",
       "      <td>61249.00000</td>\n",
       "    </tr>\n",
       "    <tr>\n",
       "      <th>mean</th>\n",
       "      <td>124.32518</td>\n",
       "      <td>134.31142</td>\n",
       "      <td>23.99982</td>\n",
       "      <td>0.57135</td>\n",
       "      <td>94.03158</td>\n",
       "      <td>472.88244</td>\n",
       "      <td>579.42006</td>\n",
       "      <td>1417.89660</td>\n",
       "      <td>1201.91536</td>\n",
       "      <td>8.03163</td>\n",
       "      <td>...</td>\n",
       "      <td>266.73567</td>\n",
       "      <td>2334.42759</td>\n",
       "      <td>8067.81181</td>\n",
       "      <td>9.28560</td>\n",
       "      <td>0.02325</td>\n",
       "      <td>347.76003</td>\n",
       "      <td>2228.61328</td>\n",
       "      <td>97.75140</td>\n",
       "      <td>20.86433</td>\n",
       "      <td>12.51900</td>\n",
       "    </tr>\n",
       "    <tr>\n",
       "      <th>std</th>\n",
       "      <td>71.99535</td>\n",
       "      <td>89.78339</td>\n",
       "      <td>14.78072</td>\n",
       "      <td>0.31070</td>\n",
       "      <td>14.25195</td>\n",
       "      <td>26.43683</td>\n",
       "      <td>37.34265</td>\n",
       "      <td>106.16760</td>\n",
       "      <td>119.32759</td>\n",
       "      <td>3.62287</td>\n",
       "      <td>...</td>\n",
       "      <td>138.47911</td>\n",
       "      <td>128.19786</td>\n",
       "      <td>85.67054</td>\n",
       "      <td>0.75037</td>\n",
       "      <td>0.00468</td>\n",
       "      <td>27.80828</td>\n",
       "      <td>145.47249</td>\n",
       "      <td>5.36942</td>\n",
       "      <td>9.93640</td>\n",
       "      <td>5.96270</td>\n",
       "    </tr>\n",
       "    <tr>\n",
       "      <th>min</th>\n",
       "      <td>1.00000</td>\n",
       "      <td>1.00000</td>\n",
       "      <td>0.00000</td>\n",
       "      <td>0.00000</td>\n",
       "      <td>60.00000</td>\n",
       "      <td>445.00000</td>\n",
       "      <td>535.48000</td>\n",
       "      <td>1242.67000</td>\n",
       "      <td>1024.42000</td>\n",
       "      <td>3.91000</td>\n",
       "      <td>...</td>\n",
       "      <td>128.31000</td>\n",
       "      <td>2027.57000</td>\n",
       "      <td>7845.78000</td>\n",
       "      <td>8.17570</td>\n",
       "      <td>0.02000</td>\n",
       "      <td>302.00000</td>\n",
       "      <td>1915.00000</td>\n",
       "      <td>84.93000</td>\n",
       "      <td>10.16000</td>\n",
       "      <td>6.08430</td>\n",
       "    </tr>\n",
       "    <tr>\n",
       "      <th>25%</th>\n",
       "      <td>60.00000</td>\n",
       "      <td>62.00000</td>\n",
       "      <td>10.00460</td>\n",
       "      <td>0.25070</td>\n",
       "      <td>100.00000</td>\n",
       "      <td>445.00000</td>\n",
       "      <td>549.33000</td>\n",
       "      <td>1350.55000</td>\n",
       "      <td>1119.49000</td>\n",
       "      <td>3.91000</td>\n",
       "      <td>...</td>\n",
       "      <td>134.52000</td>\n",
       "      <td>2387.91000</td>\n",
       "      <td>8062.63000</td>\n",
       "      <td>8.64800</td>\n",
       "      <td>0.02000</td>\n",
       "      <td>330.00000</td>\n",
       "      <td>2212.00000</td>\n",
       "      <td>100.00000</td>\n",
       "      <td>10.94000</td>\n",
       "      <td>6.56610</td>\n",
       "    </tr>\n",
       "    <tr>\n",
       "      <th>50%</th>\n",
       "      <td>126.00000</td>\n",
       "      <td>123.00000</td>\n",
       "      <td>25.00140</td>\n",
       "      <td>0.70000</td>\n",
       "      <td>100.00000</td>\n",
       "      <td>462.54000</td>\n",
       "      <td>555.74000</td>\n",
       "      <td>1367.68000</td>\n",
       "      <td>1136.92000</td>\n",
       "      <td>7.05000</td>\n",
       "      <td>...</td>\n",
       "      <td>183.45000</td>\n",
       "      <td>2388.06000</td>\n",
       "      <td>8083.81000</td>\n",
       "      <td>9.25560</td>\n",
       "      <td>0.02000</td>\n",
       "      <td>334.00000</td>\n",
       "      <td>2223.00000</td>\n",
       "      <td>100.00000</td>\n",
       "      <td>14.93000</td>\n",
       "      <td>8.96010</td>\n",
       "    </tr>\n",
       "    <tr>\n",
       "      <th>75%</th>\n",
       "      <td>185.00000</td>\n",
       "      <td>191.00000</td>\n",
       "      <td>41.99810</td>\n",
       "      <td>0.84000</td>\n",
       "      <td>100.00000</td>\n",
       "      <td>491.19000</td>\n",
       "      <td>607.07000</td>\n",
       "      <td>1497.42000</td>\n",
       "      <td>1302.62000</td>\n",
       "      <td>10.52000</td>\n",
       "      <td>...</td>\n",
       "      <td>371.40000</td>\n",
       "      <td>2388.17000</td>\n",
       "      <td>8128.35000</td>\n",
       "      <td>9.36580</td>\n",
       "      <td>0.03000</td>\n",
       "      <td>368.00000</td>\n",
       "      <td>2324.00000</td>\n",
       "      <td>100.00000</td>\n",
       "      <td>28.56000</td>\n",
       "      <td>17.13550</td>\n",
       "    </tr>\n",
       "    <tr>\n",
       "      <th>max</th>\n",
       "      <td>249.00000</td>\n",
       "      <td>543.00000</td>\n",
       "      <td>42.00800</td>\n",
       "      <td>0.84200</td>\n",
       "      <td>100.00000</td>\n",
       "      <td>518.67000</td>\n",
       "      <td>644.42000</td>\n",
       "      <td>1613.00000</td>\n",
       "      <td>1440.77000</td>\n",
       "      <td>14.62000</td>\n",
       "      <td>...</td>\n",
       "      <td>537.49000</td>\n",
       "      <td>2390.49000</td>\n",
       "      <td>8261.65000</td>\n",
       "      <td>11.06630</td>\n",
       "      <td>0.03000</td>\n",
       "      <td>399.00000</td>\n",
       "      <td>2388.00000</td>\n",
       "      <td>100.00000</td>\n",
       "      <td>39.89000</td>\n",
       "      <td>23.88520</td>\n",
       "    </tr>\n",
       "  </tbody>\n",
       "</table>\n",
       "<p>8 rows × 26 columns</p>\n",
       "</div>"
      ],
      "text/plain": [
       "        engine_id       cycle    setting1    setting2    setting3          s1  \\\n",
       "count 61249.00000 61249.00000 61249.00000 61249.00000 61249.00000 61249.00000   \n",
       "mean    124.32518   134.31142    23.99982     0.57135    94.03158   472.88244   \n",
       "std      71.99535    89.78339    14.78072     0.31070    14.25195    26.43683   \n",
       "min       1.00000     1.00000     0.00000     0.00000    60.00000   445.00000   \n",
       "25%      60.00000    62.00000    10.00460     0.25070   100.00000   445.00000   \n",
       "50%     126.00000   123.00000    25.00140     0.70000   100.00000   462.54000   \n",
       "75%     185.00000   191.00000    41.99810     0.84000   100.00000   491.19000   \n",
       "max     249.00000   543.00000    42.00800     0.84200   100.00000   518.67000   \n",
       "\n",
       "               s2          s3          s4          s5  ...         s12  \\\n",
       "count 61249.00000 61249.00000 61249.00000 61249.00000  ... 61249.00000   \n",
       "mean    579.42006  1417.89660  1201.91536     8.03163  ...   266.73567   \n",
       "std      37.34265   106.16760   119.32759     3.62287  ...   138.47911   \n",
       "min     535.48000  1242.67000  1024.42000     3.91000  ...   128.31000   \n",
       "25%     549.33000  1350.55000  1119.49000     3.91000  ...   134.52000   \n",
       "50%     555.74000  1367.68000  1136.92000     7.05000  ...   183.45000   \n",
       "75%     607.07000  1497.42000  1302.62000    10.52000  ...   371.40000   \n",
       "max     644.42000  1613.00000  1440.77000    14.62000  ...   537.49000   \n",
       "\n",
       "              s13         s14         s15         s16         s17         s18  \\\n",
       "count 61249.00000 61249.00000 61249.00000 61249.00000 61249.00000 61249.00000   \n",
       "mean   2334.42759  8067.81181     9.28560     0.02325   347.76003  2228.61328   \n",
       "std     128.19786    85.67054     0.75037     0.00468    27.80828   145.47249   \n",
       "min    2027.57000  7845.78000     8.17570     0.02000   302.00000  1915.00000   \n",
       "25%    2387.91000  8062.63000     8.64800     0.02000   330.00000  2212.00000   \n",
       "50%    2388.06000  8083.81000     9.25560     0.02000   334.00000  2223.00000   \n",
       "75%    2388.17000  8128.35000     9.36580     0.03000   368.00000  2324.00000   \n",
       "max    2390.49000  8261.65000    11.06630     0.03000   399.00000  2388.00000   \n",
       "\n",
       "              s19         s20         s21  \n",
       "count 61249.00000 61249.00000 61249.00000  \n",
       "mean     97.75140    20.86433    12.51900  \n",
       "std       5.36942     9.93640     5.96270  \n",
       "min      84.93000    10.16000     6.08430  \n",
       "25%     100.00000    10.94000     6.56610  \n",
       "50%     100.00000    14.93000     8.96010  \n",
       "75%     100.00000    28.56000    17.13550  \n",
       "max     100.00000    39.89000    23.88520  \n",
       "\n",
       "[8 rows x 26 columns]"
      ]
     },
     "execution_count": 56,
     "metadata": {},
     "output_type": "execute_result"
    }
   ],
   "source": [
    "train_FD.describe()"
   ]
  },
  {
   "cell_type": "markdown",
   "metadata": {},
   "source": [
    "# Compute the remaining useful life"
   ]
  },
  {
   "cell_type": "markdown",
   "metadata": {},
   "source": [
    "### RUL for Training dataset"
   ]
  },
  {
   "cell_type": "markdown",
   "metadata": {},
   "source": [
    "Here, we use the piecewise linear degradation model as the target function in the estimation process. \n",
    "The degradation of the system typically starts after a certain degree of usage, and hence, we consider this model to be more suited compared to the linear degradation model. [1](https://arxiv.org/abs/1810.05644)\n",
    "![title](images/piecewise.png)"
   ]
  },
  {
   "cell_type": "code",
   "execution_count": 57,
   "metadata": {},
   "outputs": [],
   "source": [
    "id='engine_id'\n",
    "MAXLIFE = 120 # or 125 , 130\n",
    "# piecewise linear RUL \n",
    "rul = [] \n",
    "for _id in set(train_FD[id]):\n",
    "    trainFD_of_one_id =  train_FD[train_FD[id] == _id]\n",
    "    cycle_list = trainFD_of_one_id['cycle'].tolist()\n",
    "    max_cycle = max(cycle_list)\n",
    "\n",
    "    knee_point = max_cycle - MAXLIFE\n",
    "    kink_RUL = []\n",
    "    for i in range(0, len(cycle_list)):\n",
    "        # \n",
    "        if i < knee_point:\n",
    "            kink_RUL.append(MAXLIFE)\n",
    "        else:\n",
    "            tmp = max_cycle-i-1\n",
    "            kink_RUL.append(tmp)\n",
    "    rul.extend(kink_RUL)\n",
    "\n",
    "train_FD[\"RUL\"] = rul"
   ]
  },
  {
   "cell_type": "markdown",
   "metadata": {},
   "source": [
    "### RUL for test dataset"
   ]
  },
  {
   "cell_type": "code",
   "execution_count": 58,
   "metadata": {},
   "outputs": [],
   "source": [
    "id='engine_id'\n",
    "rul = []\n",
    "for _id_test in set(test_FD[id]):\n",
    "    true_rul = int(RUL_FD.iloc[_id_test - 1])\n",
    "    testFD_of_one_id =  test_FD[test_FD[id] == _id_test]\n",
    "    cycle_list = testFD_of_one_id['cycle'].tolist()\n",
    "    max_cycle = max(cycle_list) + true_rul\n",
    "    knee_point = max_cycle - MAXLIFE\n",
    "    kink_RUL = []\n",
    "    for i in range(0, len(cycle_list)):\n",
    "        if i < knee_point:\n",
    "            kink_RUL.append(MAXLIFE)\n",
    "        else:\n",
    "            tmp = max_cycle-i-1\n",
    "            kink_RUL.append(tmp)    \n",
    "\n",
    "    rul.extend(kink_RUL)\n",
    "\n",
    "test_FD[\"RUL\"] = rul"
   ]
  },
  {
   "cell_type": "markdown",
   "metadata": {},
   "source": [
    "# Feature extention\n",
    "\n",
    "    Remove features that have only unique value\n",
    "    \n",
    "    Use correlation test methods (Significance test) to exclude features that are not related to the target variable"
   ]
  },
  {
   "cell_type": "code",
   "execution_count": 59,
   "metadata": {},
   "outputs": [],
   "source": [
    "col_to_drop = identify_and_remove_unique_columns(train_FD)"
   ]
  },
  {
   "cell_type": "code",
   "execution_count": 60,
   "metadata": {},
   "outputs": [],
   "source": [
    "train_FD = train_FD.drop(col_to_drop,axis = 1)"
   ]
  },
  {
   "cell_type": "code",
   "execution_count": 61,
   "metadata": {},
   "outputs": [],
   "source": [
    "test_FD = test_FD.drop(col_to_drop,axis = 1)"
   ]
  },
  {
   "cell_type": "markdown",
   "metadata": {},
   "source": [
    "## standard normalization "
   ]
  },
  {
   "cell_type": "code",
   "execution_count": 62,
   "metadata": {},
   "outputs": [],
   "source": [
    "mean = train_FD.iloc[:, 2:-1].mean()\n",
    "std = train_FD.iloc[:, 2:-1].std()\n",
    "std.replace(0, 1, inplace=True)\n",
    "\n",
    "\n",
    "# training dataset\n",
    "train_FD.iloc[:, 2:-1] = (train_FD.iloc[:, 2:-1] - mean) / std\n",
    "\n",
    "# Testing dataset\n",
    "test_FD.iloc[:, 2:-1] = (test_FD.iloc[:, 2:-1] - mean) / std"
   ]
  },
  {
   "cell_type": "markdown",
   "metadata": {},
   "source": [
    "### plot a figure"
   ]
  },
  {
   "cell_type": "code",
   "execution_count": 63,
   "metadata": {},
   "outputs": [
    {
     "name": "stdout",
     "output_type": "stream",
     "text": [
      "training (61249, 17) (61249,)\n",
      "testing (41214, 17) (41214,)\n"
     ]
    },
    {
     "data": {
      "image/png": "[encoded data removed]",
      "text/plain": [
       "<Figure size 1080x144 with 1 Axes>"
      ]
     },
     "metadata": {
      "needs_background": "light"
     },
     "output_type": "display_data"
    },
    {
     "data": {
      "image/png": "[encoded data removed]",
      "text/plain": [
       "<Figure size 1080x144 with 1 Axes>"
      ]
     },
     "metadata": {
      "needs_background": "light"
     },
     "output_type": "display_data"
    },
    {
     "data": {
      "image/png": "[encoded data removed]",
      "text/plain": [
       "<Figure size 1080x144 with 1 Axes>"
      ]
     },
     "metadata": {
      "needs_background": "light"
     },
     "output_type": "display_data"
    }
   ],
   "source": [
    "training_data = train_FD.values\n",
    "testing_data = test_FD.values\n",
    "\n",
    "x_train = training_data[:, 2:-1]\n",
    "y_train = training_data[:, -1]\n",
    "print(\"training\", x_train.shape, y_train.shape)\n",
    "\n",
    "x_test = testing_data[:, 2:-1]\n",
    "y_test = testing_data[:, -1]\n",
    "print(\"testing\", x_test.shape, y_test.shape)\n",
    "\n",
    "plt.figure(figsize=(15,2))\n",
    "plt.plot(y_train[:500], label=\"train\")\n",
    "plt.legend()\n",
    "plt.figure(figsize=(15,2))\n",
    "\n",
    "plt.plot(y_test[:500], label=\"test\")\n",
    "plt.legend()\n",
    "plt.figure(figsize=(15,2))\n",
    "plt.plot(x_train[:190])\n",
    "plt.title(\"train: \" + Data_id )\n",
    "\n",
    "plt.show()"
   ]
  },
  {
   "cell_type": "markdown",
   "metadata": {},
   "source": [
    "# Data_Batch generation\n",
    "    \n",
    "Data generation with sliding window method\n",
    "![title](images/sliding.png)\n",
    "sequence_length defines the window movement steps\n",
    "\n",
    "Window size defines the time steps included in the window\n",
    "\n",
    "In the example above, the window size is 4, which is moved by one step"
   ]
  },
  {
   "cell_type": "code",
   "execution_count": 64,
   "metadata": {},
   "outputs": [],
   "source": [
    "sequence_length=5\n",
    "window_size = 16\n",
    "# Prepare the training set according to the  window size and sequence_length\n",
    "x_batch, y_batch =batch_generator(train_FD,sequence_length=sequence_length,window_size = window_size)\n",
    "\n",
    "x_batch = np.expand_dims(x_batch, axis=4)\n",
    "y_batch = np.expand_dims(y_batch, axis=1)"
   ]
  },
  {
   "cell_type": "code",
   "execution_count": 65,
   "metadata": {},
   "outputs": [],
   "source": [
    "number_of_sensor = x_batch.shape[-2]"
   ]
  },
  {
   "cell_type": "markdown",
   "metadata": {},
   "source": [
    "# Model"
   ]
  },
  {
   "cell_type": "code",
   "execution_count": 66,
   "metadata": {},
   "outputs": [],
   "source": [
    "from ECLSTM import ECLSTM1D\n",
    "from ECLSTM import check_the_config_valid\n",
    "from ECLSTM import build_the_model\n",
    "\n",
    "\n",
    "from tensorflow.keras.models import Sequential\n",
    "from tensorflow.keras.layers import Dense\n",
    "from tensorflow.keras.layers import Flatten\n",
    "from tensorflow.keras.layers import TimeDistributed\n",
    "from tensorflow.keras.callbacks import TensorBoard, ModelCheckpoint, EarlyStopping, ReduceLROnPlateau"
   ]
  },
  {
   "cell_type": "markdown",
   "metadata": {},
   "source": [
    "    The network below has a naive four-layer architecture.\n",
    "    The first layer is a ECLSTM layer with 10 filters, and the kernel size is 3.\n",
    "    The second layer is a ECLSTM layer with 20 filters, and the kernel size is 3.\n",
    "    The third is forward fully connected layers, with 150 hidden nodes. \n",
    "    The last layer is a 1-dimensional output layer which predicts the RUL. \n",
    "<font color=red>**This  model is not optimized， But it has been able to achieve state of the art results on FD002 and FD004 dataset. \n",
    "And the performance on FD001 and FD002 dataset is also better than the optimized traditional LSTM model.**</font> [[2]](https://ieeexplore.ieee.org/document/7998311) \n",
    "\n",
    "It shows that this new LSTM variant has stronger capabilities than LSTM in dealing with multiple time series problems (with large window size).\n",
    "\n",
    "| Datasets  | FD001  | FD002  | FD003 | FD004  |\n",
    "|-----------|--------|--------|-------|--------|\n",
    "|   MLP   |  37.56 | 80.03  | 37.39 | 77.37  | \n",
    "|   SVR   | 20.96  | 42.00  | 21.05 | 45.35  |\n",
    "|   RVR   | 23.80  | 31.30  | 22.37 | 34.34  | \n",
    "|   CNN   | 18.45  | 30.29  | 19.82  | 29.16 | \n",
    "| Deep LSTM | **16.14** | **24.49**  | **16.18**  | **28.17**  | \n",
    "\n",
    "The RMSE values in this table are used as the baseline for comparison"
   ]
  },
  {
   "cell_type": "code",
   "execution_count": 67,
   "metadata": {},
   "outputs": [],
   "source": [
    "# specify the achtecture parameters\n",
    "para = {\n",
    "    # preprocessing part\n",
    "    \"preprocessing_layers\" : 0,\n",
    "    \"pre_kernel_width\" : 3,\n",
    "    \"pre_number_filters\" : 10,\n",
    "    \"pre_strides\" : 2,\n",
    "    \"pre_activation\" : \"relu\",\n",
    "\n",
    "\n",
    "    # ECLSTM feature extraction part\n",
    "    \"eclstm_1_recurrent_activation\" : ['linear',\"hard_sigmoid\"],\n",
    "    \"eclstm_1_conv_activation\" : ['hard_sigmoid',\"hard_sigmoid\"],\n",
    "    \"eclstm_1_kernel_width\" : [3,3],\n",
    "    \"eclstm_1_number_filters\" : [10,10],\n",
    "    \"eclstm_1_strides\" : 1,\n",
    "    \"eclstm_1_fusion\":[\"early\",\"early\"],\n",
    "    \n",
    "    \"eclstm_2_recurrent_activation\" : ['linear',\"hard_sigmoid\"],\n",
    "    \"eclstm_2_conv_activation\" : ['hard_sigmoid',\"hard_sigmoid\"],\n",
    "    \"eclstm_2_kernel_width\" : [3,3],\n",
    "    \"eclstm_2_number_filters\" : [20,20],\n",
    "    \"eclstm_2_strides\" : 1,\n",
    "    \"eclstm_2_fusion\":[\"early\",\"early\"],\n",
    "\n",
    "    \"eclstm_3_recurrent_activation\" : [None],\n",
    "    \"eclstm_3_conv_activation\" : [None],\n",
    "    \"eclstm_3_kernel_width\" : [None],\n",
    "    \"eclstm_3_number_filters\" : [None],\n",
    "    \"eclstm_3_strides\" : None,\n",
    "    \"eclstm_3_fusion\":[None],\n",
    "\n",
    "    \"eclstm_4_recurrent_activation\" : [None],\n",
    "    \"eclstm_4_conv_activation\" : [None],\n",
    "    \"eclstm_4_kernel_width\" : [None],\n",
    "    \"eclstm_4_number_filters\" : [None],\n",
    "    \"eclstm_4_strides\" : None,\n",
    "    \"eclstm_4_fusion\":[None],\n",
    "\n",
    "    # Prediction\n",
    "    \"prediction_1_filters\" : 150,\n",
    "    \"prediction_1_activation\" : \"relu\",\n",
    "    \n",
    "    \"prediction_2_filters\" : 0,\n",
    "    \"prediction_2_activation\" : None,\n",
    "    \n",
    "    \"prediction_3_filters\" : 0,\n",
    "    \"prediction_3_activation\" : None,\n",
    "    \n",
    "    \"prediction_4_filters\" : 0,\n",
    "    \"prediction_4_activation\" : None,\n",
    "}"
   ]
  },
  {
   "cell_type": "code",
   "execution_count": 68,
   "metadata": {},
   "outputs": [
    {
     "name": "stdout",
     "output_type": "stream",
     "text": [
      "valid Configuration!\n",
      "Model: \"sequential_2\"\n",
      "_________________________________________________________________\n",
      " Layer (type)                Output Shape              Param #   \n",
      "=================================================================\n",
      " module_wrapper_4 (ModuleWra  (None, 5, 12, 1, 10)     6020      \n",
      " pper)                                                           \n",
      "                                                                 \n",
      " batch_normalization_4 (Batc  (None, 5, 12, 1, 10)     40        \n",
      " hNormalization)                                                 \n",
      "                                                                 \n",
      " module_wrapper_5 (ModuleWra  (None, 8, 1, 20)         18160     \n",
      " pper)                                                           \n",
      "                                                                 \n",
      " batch_normalization_5 (Batc  (None, 8, 1, 20)         80        \n",
      " hNormalization)                                                 \n",
      "                                                                 \n",
      " flatten_2 (Flatten)         (None, 160)               0         \n",
      "                                                                 \n",
      " dense_4 (Dense)             (None, 150)               24150     \n",
      "                                                                 \n",
      " dense_5 (Dense)             (None, 1)                 151       \n",
      "                                                                 \n",
      "=================================================================\n",
      "Total params: 48,601\n",
      "Trainable params: 48,541\n",
      "Non-trainable params: 60\n",
      "_________________________________________________________________\n",
      "None\n"
     ]
    }
   ],
   "source": [
    "valid = check_the_config_valid(para,window_size,number_of_sensor)\n",
    "if valid:\n",
    "    model = build_the_model(para, sequence_length, window_size, number_of_sensor)\n",
    "else: \n",
    "    print(\"invalid configuration\")\n",
    "input_data = tf.keras.layers.Input(shape=(sequence_length, window_size, number_of_sensor,1))\n",
    "out = model(input_data)\n",
    "print(model.summary())"
   ]
  },
  {
   "cell_type": "markdown",
   "metadata": {},
   "source": [
    "# Train the model"
   ]
  },
  {
   "cell_type": "code",
   "execution_count": 69,
   "metadata": {},
   "outputs": [],
   "source": [
    "dateTimeObj = datetime.now()\n",
    "\n",
    "log_dir = \"logs/{}_{}_{}_{}_{}_{}_{}/\".format(Data_id,\n",
    "                                              dateTimeObj.year,\n",
    "                                              dateTimeObj.month,\n",
    "                                              dateTimeObj.day,\n",
    "                                              dateTimeObj.hour,\n",
    "                                              dateTimeObj.minute,\n",
    "                                              dateTimeObj.second)\n",
    "\n",
    "\n",
    "os.makedirs(log_dir)\n",
    "\n",
    "checkpoint = ModelCheckpoint(log_dir + 'ep{epoch:03d}-loss{loss:.3f}-val_loss{val_loss:.3f}.h5',\n",
    "                             monitor='val_loss', save_weights_only=True, save_best_only=True)\n",
    "reduce_lr = ReduceLROnPlateau(monitor='val_loss', factor=0.3, patience=5, verbose=1)\n",
    "early_stopping = EarlyStopping(monitor='val_loss', min_delta=0, patience=15, verbose=1, mode='auto')"
   ]
  },
  {
   "cell_type": "code",
   "execution_count": 70,
   "metadata": {},
   "outputs": [
    {
     "name": "stdout",
     "output_type": "stream",
     "text": [
      "Epoch 1/30\n",
      "1220/3486 [=========>....................] - ETA: 1:32 - loss: 818.4557"
     ]
    },
    {
     "ename": "KeyboardInterrupt",
     "evalue": "",
     "output_type": "error",
     "traceback": [
      "\u001b[1;31m---------------------------------------------------------------------------\u001b[0m",
      "\u001b[1;31mKeyboardInterrupt\u001b[0m                         Traceback (most recent call last)",
      "\u001b[1;32mc:\\Users\\I539001\\Desktop\\PA2\\AutoRUL_Original\\AutoRUL\\ECLSTM_RUL_estimation.ipynb Cell 31\u001b[0m in \u001b[0;36m<cell line: 3>\u001b[1;34m()\u001b[0m\n\u001b[0;32m      <a href='vscode-notebook-cell:/c%3A/Users/I539001/Desktop/PA2/AutoRUL_Original/AutoRUL/ECLSTM_RUL_estimation.ipynb#X42sZmlsZQ%3D%3D?line=0'>1</a>\u001b[0m \u001b[39m# if you have enough time budget, you can set a large epochs and large patience\u001b[39;00m\n\u001b[1;32m----> <a href='vscode-notebook-cell:/c%3A/Users/I539001/Desktop/PA2/AutoRUL_Original/AutoRUL/ECLSTM_RUL_estimation.ipynb#X42sZmlsZQ%3D%3D?line=2'>3</a>\u001b[0m model\u001b[39m.\u001b[39;49mfit(x_batch,y_batch, \n\u001b[0;32m      <a href='vscode-notebook-cell:/c%3A/Users/I539001/Desktop/PA2/AutoRUL_Original/AutoRUL/ECLSTM_RUL_estimation.ipynb#X42sZmlsZQ%3D%3D?line=3'>4</a>\u001b[0m           batch_size\u001b[39m=\u001b[39;49m\u001b[39m15\u001b[39;49m, \n\u001b[0;32m      <a href='vscode-notebook-cell:/c%3A/Users/I539001/Desktop/PA2/AutoRUL_Original/AutoRUL/ECLSTM_RUL_estimation.ipynb#X42sZmlsZQ%3D%3D?line=4'>5</a>\u001b[0m           epochs\u001b[39m=\u001b[39;49m\u001b[39m30\u001b[39;49m, \n\u001b[0;32m      <a href='vscode-notebook-cell:/c%3A/Users/I539001/Desktop/PA2/AutoRUL_Original/AutoRUL/ECLSTM_RUL_estimation.ipynb#X42sZmlsZQ%3D%3D?line=5'>6</a>\u001b[0m           callbacks\u001b[39m=\u001b[39;49m[\u001b[39m#logging, \u001b[39;49;00m\n\u001b[0;32m      <a href='vscode-notebook-cell:/c%3A/Users/I539001/Desktop/PA2/AutoRUL_Original/AutoRUL/ECLSTM_RUL_estimation.ipynb#X42sZmlsZQ%3D%3D?line=6'>7</a>\u001b[0m                      checkpoint, \n\u001b[0;32m      <a href='vscode-notebook-cell:/c%3A/Users/I539001/Desktop/PA2/AutoRUL_Original/AutoRUL/ECLSTM_RUL_estimation.ipynb#X42sZmlsZQ%3D%3D?line=7'>8</a>\u001b[0m                      reduce_lr, \n\u001b[0;32m      <a href='vscode-notebook-cell:/c%3A/Users/I539001/Desktop/PA2/AutoRUL_Original/AutoRUL/ECLSTM_RUL_estimation.ipynb#X42sZmlsZQ%3D%3D?line=8'>9</a>\u001b[0m                      early_stopping],\n\u001b[0;32m     <a href='vscode-notebook-cell:/c%3A/Users/I539001/Desktop/PA2/AutoRUL_Original/AutoRUL/ECLSTM_RUL_estimation.ipynb#X42sZmlsZQ%3D%3D?line=9'>10</a>\u001b[0m           validation_split\u001b[39m=\u001b[39;49m\u001b[39m0.075\u001b[39;49m)\n\u001b[0;32m     <a href='vscode-notebook-cell:/c%3A/Users/I539001/Desktop/PA2/AutoRUL_Original/AutoRUL/ECLSTM_RUL_estimation.ipynb#X42sZmlsZQ%3D%3D?line=10'>11</a>\u001b[0m model\u001b[39m.\u001b[39msave_weights(log_dir \u001b[39m+\u001b[39m \u001b[39m'\u001b[39m\u001b[39mtrained_weights_final.h5\u001b[39m\u001b[39m'\u001b[39m)\n",
      "File \u001b[1;32mc:\\Users\\I539001\\AppData\\Local\\Programs\\Python\\Python310\\lib\\site-packages\\keras\\utils\\traceback_utils.py:64\u001b[0m, in \u001b[0;36mfilter_traceback.<locals>.error_handler\u001b[1;34m(*args, **kwargs)\u001b[0m\n\u001b[0;32m     62\u001b[0m filtered_tb \u001b[39m=\u001b[39m \u001b[39mNone\u001b[39;00m\n\u001b[0;32m     63\u001b[0m \u001b[39mtry\u001b[39;00m:\n\u001b[1;32m---> 64\u001b[0m   \u001b[39mreturn\u001b[39;00m fn(\u001b[39m*\u001b[39margs, \u001b[39m*\u001b[39m\u001b[39m*\u001b[39mkwargs)\n\u001b[0;32m     65\u001b[0m \u001b[39mexcept\u001b[39;00m \u001b[39mException\u001b[39;00m \u001b[39mas\u001b[39;00m e:  \u001b[39m# pylint: disable=broad-except\u001b[39;00m\n\u001b[0;32m     66\u001b[0m   filtered_tb \u001b[39m=\u001b[39m _process_traceback_frames(e\u001b[39m.\u001b[39m__traceback__)\n",
      "File \u001b[1;32mc:\\Users\\I539001\\AppData\\Local\\Programs\\Python\\Python310\\lib\\site-packages\\keras\\engine\\training.py:1409\u001b[0m, in \u001b[0;36mModel.fit\u001b[1;34m(self, x, y, batch_size, epochs, verbose, callbacks, validation_split, validation_data, shuffle, class_weight, sample_weight, initial_epoch, steps_per_epoch, validation_steps, validation_batch_size, validation_freq, max_queue_size, workers, use_multiprocessing)\u001b[0m\n\u001b[0;32m   1402\u001b[0m \u001b[39mwith\u001b[39;00m tf\u001b[39m.\u001b[39mprofiler\u001b[39m.\u001b[39mexperimental\u001b[39m.\u001b[39mTrace(\n\u001b[0;32m   1403\u001b[0m     \u001b[39m'\u001b[39m\u001b[39mtrain\u001b[39m\u001b[39m'\u001b[39m,\n\u001b[0;32m   1404\u001b[0m     epoch_num\u001b[39m=\u001b[39mepoch,\n\u001b[0;32m   1405\u001b[0m     step_num\u001b[39m=\u001b[39mstep,\n\u001b[0;32m   1406\u001b[0m     batch_size\u001b[39m=\u001b[39mbatch_size,\n\u001b[0;32m   1407\u001b[0m     _r\u001b[39m=\u001b[39m\u001b[39m1\u001b[39m):\n\u001b[0;32m   1408\u001b[0m   callbacks\u001b[39m.\u001b[39mon_train_batch_begin(step)\n\u001b[1;32m-> 1409\u001b[0m   tmp_logs \u001b[39m=\u001b[39m \u001b[39mself\u001b[39;49m\u001b[39m.\u001b[39;49mtrain_function(iterator)\n\u001b[0;32m   1410\u001b[0m   \u001b[39mif\u001b[39;00m data_handler\u001b[39m.\u001b[39mshould_sync:\n\u001b[0;32m   1411\u001b[0m     context\u001b[39m.\u001b[39masync_wait()\n",
      "File \u001b[1;32mc:\\Users\\I539001\\AppData\\Local\\Programs\\Python\\Python310\\lib\\site-packages\\tensorflow\\python\\util\\traceback_utils.py:150\u001b[0m, in \u001b[0;36mfilter_traceback.<locals>.error_handler\u001b[1;34m(*args, **kwargs)\u001b[0m\n\u001b[0;32m    148\u001b[0m filtered_tb \u001b[39m=\u001b[39m \u001b[39mNone\u001b[39;00m\n\u001b[0;32m    149\u001b[0m \u001b[39mtry\u001b[39;00m:\n\u001b[1;32m--> 150\u001b[0m   \u001b[39mreturn\u001b[39;00m fn(\u001b[39m*\u001b[39margs, \u001b[39m*\u001b[39m\u001b[39m*\u001b[39mkwargs)\n\u001b[0;32m    151\u001b[0m \u001b[39mexcept\u001b[39;00m \u001b[39mException\u001b[39;00m \u001b[39mas\u001b[39;00m e:\n\u001b[0;32m    152\u001b[0m   filtered_tb \u001b[39m=\u001b[39m _process_traceback_frames(e\u001b[39m.\u001b[39m__traceback__)\n",
      "File \u001b[1;32mc:\\Users\\I539001\\AppData\\Local\\Programs\\Python\\Python310\\lib\\site-packages\\tensorflow\\python\\eager\\def_function.py:915\u001b[0m, in \u001b[0;36mFunction.__call__\u001b[1;34m(self, *args, **kwds)\u001b[0m\n\u001b[0;32m    912\u001b[0m compiler \u001b[39m=\u001b[39m \u001b[39m\"\u001b[39m\u001b[39mxla\u001b[39m\u001b[39m\"\u001b[39m \u001b[39mif\u001b[39;00m \u001b[39mself\u001b[39m\u001b[39m.\u001b[39m_jit_compile \u001b[39melse\u001b[39;00m \u001b[39m\"\u001b[39m\u001b[39mnonXla\u001b[39m\u001b[39m\"\u001b[39m\n\u001b[0;32m    914\u001b[0m \u001b[39mwith\u001b[39;00m OptionalXlaContext(\u001b[39mself\u001b[39m\u001b[39m.\u001b[39m_jit_compile):\n\u001b[1;32m--> 915\u001b[0m   result \u001b[39m=\u001b[39m \u001b[39mself\u001b[39m\u001b[39m.\u001b[39m_call(\u001b[39m*\u001b[39margs, \u001b[39m*\u001b[39m\u001b[39m*\u001b[39mkwds)\n\u001b[0;32m    917\u001b[0m new_tracing_count \u001b[39m=\u001b[39m \u001b[39mself\u001b[39m\u001b[39m.\u001b[39mexperimental_get_tracing_count()\n\u001b[0;32m    918\u001b[0m without_tracing \u001b[39m=\u001b[39m (tracing_count \u001b[39m==\u001b[39m new_tracing_count)\n",
      "File \u001b[1;32mc:\\Users\\I539001\\AppData\\Local\\Programs\\Python\\Python310\\lib\\site-packages\\tensorflow\\python\\eager\\def_function.py:947\u001b[0m, in \u001b[0;36mFunction._call\u001b[1;34m(self, *args, **kwds)\u001b[0m\n\u001b[0;32m    944\u001b[0m   \u001b[39mself\u001b[39m\u001b[39m.\u001b[39m_lock\u001b[39m.\u001b[39mrelease()\n\u001b[0;32m    945\u001b[0m   \u001b[39m# In this case we have created variables on the first call, so we run the\u001b[39;00m\n\u001b[0;32m    946\u001b[0m   \u001b[39m# defunned version which is guaranteed to never create variables.\u001b[39;00m\n\u001b[1;32m--> 947\u001b[0m   \u001b[39mreturn\u001b[39;00m \u001b[39mself\u001b[39m\u001b[39m.\u001b[39m_stateless_fn(\u001b[39m*\u001b[39margs, \u001b[39m*\u001b[39m\u001b[39m*\u001b[39mkwds)  \u001b[39m# pylint: disable=not-callable\u001b[39;00m\n\u001b[0;32m    948\u001b[0m \u001b[39melif\u001b[39;00m \u001b[39mself\u001b[39m\u001b[39m.\u001b[39m_stateful_fn \u001b[39mis\u001b[39;00m \u001b[39mnot\u001b[39;00m \u001b[39mNone\u001b[39;00m:\n\u001b[0;32m    949\u001b[0m   \u001b[39m# Release the lock early so that multiple threads can perform the call\u001b[39;00m\n\u001b[0;32m    950\u001b[0m   \u001b[39m# in parallel.\u001b[39;00m\n\u001b[0;32m    951\u001b[0m   \u001b[39mself\u001b[39m\u001b[39m.\u001b[39m_lock\u001b[39m.\u001b[39mrelease()\n",
      "File \u001b[1;32mc:\\Users\\I539001\\AppData\\Local\\Programs\\Python\\Python310\\lib\\site-packages\\tensorflow\\python\\eager\\function.py:2453\u001b[0m, in \u001b[0;36mFunction.__call__\u001b[1;34m(self, *args, **kwargs)\u001b[0m\n\u001b[0;32m   2450\u001b[0m \u001b[39mwith\u001b[39;00m \u001b[39mself\u001b[39m\u001b[39m.\u001b[39m_lock:\n\u001b[0;32m   2451\u001b[0m   (graph_function,\n\u001b[0;32m   2452\u001b[0m    filtered_flat_args) \u001b[39m=\u001b[39m \u001b[39mself\u001b[39m\u001b[39m.\u001b[39m_maybe_define_function(args, kwargs)\n\u001b[1;32m-> 2453\u001b[0m \u001b[39mreturn\u001b[39;00m graph_function\u001b[39m.\u001b[39;49m_call_flat(\n\u001b[0;32m   2454\u001b[0m     filtered_flat_args, captured_inputs\u001b[39m=\u001b[39;49mgraph_function\u001b[39m.\u001b[39;49mcaptured_inputs)\n",
      "File \u001b[1;32mc:\\Users\\I539001\\AppData\\Local\\Programs\\Python\\Python310\\lib\\site-packages\\tensorflow\\python\\eager\\function.py:1860\u001b[0m, in \u001b[0;36mConcreteFunction._call_flat\u001b[1;34m(self, args, captured_inputs, cancellation_manager)\u001b[0m\n\u001b[0;32m   1856\u001b[0m possible_gradient_type \u001b[39m=\u001b[39m gradients_util\u001b[39m.\u001b[39mPossibleTapeGradientTypes(args)\n\u001b[0;32m   1857\u001b[0m \u001b[39mif\u001b[39;00m (possible_gradient_type \u001b[39m==\u001b[39m gradients_util\u001b[39m.\u001b[39mPOSSIBLE_GRADIENT_TYPES_NONE\n\u001b[0;32m   1858\u001b[0m     \u001b[39mand\u001b[39;00m executing_eagerly):\n\u001b[0;32m   1859\u001b[0m   \u001b[39m# No tape is watching; skip to running the function.\u001b[39;00m\n\u001b[1;32m-> 1860\u001b[0m   \u001b[39mreturn\u001b[39;00m \u001b[39mself\u001b[39m\u001b[39m.\u001b[39m_build_call_outputs(\u001b[39mself\u001b[39;49m\u001b[39m.\u001b[39;49m_inference_function\u001b[39m.\u001b[39;49mcall(\n\u001b[0;32m   1861\u001b[0m       ctx, args, cancellation_manager\u001b[39m=\u001b[39;49mcancellation_manager))\n\u001b[0;32m   1862\u001b[0m forward_backward \u001b[39m=\u001b[39m \u001b[39mself\u001b[39m\u001b[39m.\u001b[39m_select_forward_and_backward_functions(\n\u001b[0;32m   1863\u001b[0m     args,\n\u001b[0;32m   1864\u001b[0m     possible_gradient_type,\n\u001b[0;32m   1865\u001b[0m     executing_eagerly)\n\u001b[0;32m   1866\u001b[0m forward_function, args_with_tangents \u001b[39m=\u001b[39m forward_backward\u001b[39m.\u001b[39mforward()\n",
      "File \u001b[1;32mc:\\Users\\I539001\\AppData\\Local\\Programs\\Python\\Python310\\lib\\site-packages\\tensorflow\\python\\eager\\function.py:497\u001b[0m, in \u001b[0;36m_EagerDefinedFunction.call\u001b[1;34m(self, ctx, args, cancellation_manager)\u001b[0m\n\u001b[0;32m    495\u001b[0m \u001b[39mwith\u001b[39;00m _InterpolateFunctionError(\u001b[39mself\u001b[39m):\n\u001b[0;32m    496\u001b[0m   \u001b[39mif\u001b[39;00m cancellation_manager \u001b[39mis\u001b[39;00m \u001b[39mNone\u001b[39;00m:\n\u001b[1;32m--> 497\u001b[0m     outputs \u001b[39m=\u001b[39m execute\u001b[39m.\u001b[39;49mexecute(\n\u001b[0;32m    498\u001b[0m         \u001b[39mstr\u001b[39;49m(\u001b[39mself\u001b[39;49m\u001b[39m.\u001b[39;49msignature\u001b[39m.\u001b[39;49mname),\n\u001b[0;32m    499\u001b[0m         num_outputs\u001b[39m=\u001b[39;49m\u001b[39mself\u001b[39;49m\u001b[39m.\u001b[39;49m_num_outputs,\n\u001b[0;32m    500\u001b[0m         inputs\u001b[39m=\u001b[39;49margs,\n\u001b[0;32m    501\u001b[0m         attrs\u001b[39m=\u001b[39;49mattrs,\n\u001b[0;32m    502\u001b[0m         ctx\u001b[39m=\u001b[39;49mctx)\n\u001b[0;32m    503\u001b[0m   \u001b[39melse\u001b[39;00m:\n\u001b[0;32m    504\u001b[0m     outputs \u001b[39m=\u001b[39m execute\u001b[39m.\u001b[39mexecute_with_cancellation(\n\u001b[0;32m    505\u001b[0m         \u001b[39mstr\u001b[39m(\u001b[39mself\u001b[39m\u001b[39m.\u001b[39msignature\u001b[39m.\u001b[39mname),\n\u001b[0;32m    506\u001b[0m         num_outputs\u001b[39m=\u001b[39m\u001b[39mself\u001b[39m\u001b[39m.\u001b[39m_num_outputs,\n\u001b[1;32m   (...)\u001b[0m\n\u001b[0;32m    509\u001b[0m         ctx\u001b[39m=\u001b[39mctx,\n\u001b[0;32m    510\u001b[0m         cancellation_manager\u001b[39m=\u001b[39mcancellation_manager)\n",
      "File \u001b[1;32mc:\\Users\\I539001\\AppData\\Local\\Programs\\Python\\Python310\\lib\\site-packages\\tensorflow\\python\\eager\\execute.py:54\u001b[0m, in \u001b[0;36mquick_execute\u001b[1;34m(op_name, num_outputs, inputs, attrs, ctx, name)\u001b[0m\n\u001b[0;32m     52\u001b[0m \u001b[39mtry\u001b[39;00m:\n\u001b[0;32m     53\u001b[0m   ctx\u001b[39m.\u001b[39mensure_initialized()\n\u001b[1;32m---> 54\u001b[0m   tensors \u001b[39m=\u001b[39m pywrap_tfe\u001b[39m.\u001b[39;49mTFE_Py_Execute(ctx\u001b[39m.\u001b[39;49m_handle, device_name, op_name,\n\u001b[0;32m     55\u001b[0m                                       inputs, attrs, num_outputs)\n\u001b[0;32m     56\u001b[0m \u001b[39mexcept\u001b[39;00m core\u001b[39m.\u001b[39m_NotOkStatusException \u001b[39mas\u001b[39;00m e:\n\u001b[0;32m     57\u001b[0m   \u001b[39mif\u001b[39;00m name \u001b[39mis\u001b[39;00m \u001b[39mnot\u001b[39;00m \u001b[39mNone\u001b[39;00m:\n",
      "\u001b[1;31mKeyboardInterrupt\u001b[0m: "
     ]
    }
   ],
   "source": [
    "# if you have enough time budget, you can set a large epochs and large patience\n",
    "\n",
    "model.fit(x_batch,y_batch, \n",
    "          batch_size=15, \n",
    "          epochs=30, \n",
    "          callbacks=[#logging, \n",
    "                     checkpoint, \n",
    "                     reduce_lr, \n",
    "                     early_stopping],\n",
    "          validation_split=0.075)\n",
    "model.save_weights(log_dir + 'trained_weights_final.h5')"
   ]
  },
  {
   "cell_type": "markdown",
   "metadata": {},
   "source": [
    "# Evaluation"
   ]
  },
  {
   "cell_type": "markdown",
   "metadata": {},
   "source": [
    "## load the best model"
   ]
  },
  {
   "cell_type": "code",
   "execution_count": null,
   "metadata": {},
   "outputs": [],
   "source": [
    "modellist = os.listdir(log_dir)\n",
    "modellist = [file for file in modellist if \"val_loss\" in file]"
   ]
  },
  {
   "cell_type": "code",
   "execution_count": null,
   "metadata": {},
   "outputs": [],
   "source": [
    "model.load_weights(log_dir+modellist[-1])"
   ]
  },
  {
   "cell_type": "markdown",
   "metadata": {},
   "source": [
    "##  Performance on training dataset"
   ]
  },
  {
   "cell_type": "code",
   "execution_count": null,
   "metadata": {},
   "outputs": [
    {
     "name": "stdout",
     "output_type": "stream",
     "text": [
      "1526/1526 [==============================] - 15s 9ms/step\n"
     ]
    }
   ],
   "source": [
    "y_batch_pred = model.predict(x_batch)"
   ]
  },
  {
   "cell_type": "code",
   "execution_count": null,
   "metadata": {},
   "outputs": [
    {
     "name": "stdout",
     "output_type": "stream",
     "text": [
      "The RMSE on Training dataset FD002 is 17.90789794921875.\n"
     ]
    }
   ],
   "source": [
    "\n",
    "y_batch_pred = y_batch_pred.reshape(y_batch_pred.shape[0], y_batch_pred.shape[1])\n",
    "y_batch_reshape = y_batch.reshape(y_batch.shape[0], y_batch.shape[1])\n",
    "rmse_on_train = np.sqrt(mean_squared_error(y_batch_pred, y_batch_reshape))\n",
    "\n",
    "print(\"The RMSE on Training dataset {} is {}.\".format(Data_id,rmse_on_train))"
   ]
  },
  {
   "cell_type": "markdown",
   "metadata": {},
   "source": [
    "##  Performance on test dataset"
   ]
  },
  {
   "cell_type": "code",
   "execution_count": null,
   "metadata": {},
   "outputs": [],
   "source": [
    "x_batch_test, y_batch_test =  test_batch_generator(test_FD, sequence_length=sequence_length,window_size = window_size)\n",
    "x_batch_test = np.expand_dims(x_batch_test, axis=4)"
   ]
  },
  {
   "cell_type": "code",
   "execution_count": null,
   "metadata": {},
   "outputs": [],
   "source": [
    "# We provide 4 trained models. You can load the model with the following command\n",
    "# -------------------------------------\n",
    "model_id=4\n",
    "model_weights = 'trained_models/{}/best_model_{}_{}.h5'.format(Data_id,Data_id,model_id)\n",
    "if not os.path.exists(model_weights):\n",
    "    print(\"no such a weight file\")\n",
    "else:\n",
    "    model.load_weights(model_weights)"
   ]
  },
  {
   "cell_type": "code",
   "execution_count": null,
   "metadata": {},
   "outputs": [
    {
     "name": "stdout",
     "output_type": "stream",
     "text": [
      "9/9 [==============================] - 0s 6ms/step\n"
     ]
    }
   ],
   "source": [
    "y_batch_pred_test = model.predict(x_batch_test)"
   ]
  },
  {
   "cell_type": "code",
   "execution_count": null,
   "metadata": {},
   "outputs": [
    {
     "name": "stdout",
     "output_type": "stream",
     "text": [
      "The RMSE on test dataset FD002 is 16.39332389831543.\n"
     ]
    }
   ],
   "source": [
    "rmse_on_test = np.sqrt(mean_squared_error(y_batch_pred_test, y_batch_test))\n",
    "print(\"The RMSE on test dataset {} is {}.\".format(Data_id,rmse_on_test))"
   ]
  },
  {
   "cell_type": "markdown",
   "metadata": {},
   "source": [
    "# Results"
   ]
  },
  {
   "cell_type": "markdown",
   "metadata": {},
   "source": [
    "The figure shows the average RMSE\n",
    "\n",
    "| Datasets               | FD001  | FD002  | FD003 | FD004  |\n",
    "|------------------------------|--------|--------|-------|--------|\n",
    "|   LSTM (2017)           | 16.14  | 24.49  | 16.18 | 28.17  | \n",
    "|   DCNN (2018)           | 12.61  | 22.36  | 12.64 | 23.31  |\n",
    "|   DAG (2019)            | 11.96  | 20.34  | 12.46 | 22.43  | \n",
    "|   Model in this notebook   | 14.92  | **18.11**  | 13.85  | **20.11** | \n",
    "|   Optimized Model        | **11.03** | **15.95**  | **11.23**  | **16.21**  | "
   ]
  },
  {
   "cell_type": "markdown",
   "metadata": {},
   "source": [
    "# potential"
   ]
  },
  {
   "cell_type": "markdown",
   "metadata": {},
   "source": [
    "* Time series usually need pre-processing, such as **reducing noise** or **doing difference**. Proper preprocessing will help the model have better results. **1D convolution and difference** can be used as the preprocessing part.\n",
    "\n",
    "    \n",
    "\n",
    "* The model above is not optimized for each data set, If the model is **optimized separately** for each data set, the results will be better.\n",
    "\n",
    "    \n",
    "    \n",
    "* How to effectively set these hyperparameters? automated machine learning\n",
    "\n"
   ]
  },
  {
   "cell_type": "code",
   "execution_count": null,
   "metadata": {},
   "outputs": [],
   "source": []
  }
 ],
 "metadata": {
  "kernelspec": {
   "display_name": "Python 3.10.5 64-bit",
   "language": "python",
   "name": "python3"
  },
  "language_info": {
   "codemirror_mode": {
    "name": "ipython",
    "version": 3
   },
   "file_extension": ".py",
   "mimetype": "text/x-python",
   "name": "python",
   "nbconvert_exporter": "python",
   "pygments_lexer": "ipython3",
   "version": "3.10.5"
  },
  "toc": {
   "base_numbering": 1,
   "nav_menu": {},
   "number_sections": true,
   "sideBar": true,
   "skip_h1_title": false,
   "title_cell": "Table of Contents",
   "title_sidebar": "Contents",
   "toc_cell": false,
   "toc_position": {},
   "toc_section_display": true,
   "toc_window_display": false
  },
  "vscode": {
   "interpreter": {
    "hash": "de6709928cf2e8855f0ca4b57bbca8fbec23aa7e1023fb55e3401e919c59305b"
   }
  }
 },
 "nbformat": 4,
 "nbformat_minor": 2
}
